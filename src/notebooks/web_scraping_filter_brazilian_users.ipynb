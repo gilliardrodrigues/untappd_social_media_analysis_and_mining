{
 "cells": [
  {
   "cell_type": "code",
   "execution_count": 1,
   "metadata": {},
   "outputs": [],
   "source": [
    "# Para usar o sleep:\n",
    "import time\n",
    "# Para logs:\n",
    "from tqdm import tqdm\n",
    "import logging\n",
    "import sys\n",
    "sys.path.append('../utils')\n",
    "from utils import get_logger, Clock, load_json, export_json\n",
    "# Para web scraping:\n",
    "import requests\n",
    "from bs4 import BeautifulSoup, SoupStrainer\n",
    "import cchardet\n",
    "# Para acessar as credenciais de login de um arquivo externo:\n",
    "import os\n",
    "import dotenv\n",
    "# Para navegar na página além do botão 'Show more':\n",
    "from selenium import webdriver\n",
    "from selenium.webdriver.chrome.service import Service\n",
    "from selenium.webdriver.chrome.options import Options\n",
    "from selenium.webdriver.common.by import By\n",
    "from selenium.webdriver.support.ui import WebDriverWait \n",
    "from selenium.webdriver.support import expected_conditions as EC\n",
    "# Contador\n",
    "from itertools import count\n",
    "# Manipulação de JSON:\n",
    "import json\n",
    "from dictdiffer import diff\n",
    "# Para calcular similaridade entre strings:\n",
    "from thefuzz import fuzz"
   ]
  },
  {
   "cell_type": "code",
   "execution_count": 2,
   "metadata": {},
   "outputs": [],
   "source": [
    "logger = logging.getLogger(__name__)\n",
    "logger = get_logger(logger=logger)"
   ]
  },
  {
   "cell_type": "code",
   "execution_count": 3,
   "metadata": {},
   "outputs": [],
   "source": [
    "base_url = 'https://untappd.com'\n",
    "headers = {\n",
    "    \"User-Agent\":\n",
    "    \"Mozilla/5.0 (Windows NT 10.0; Win64; x64) AppleWebKit/537.36 (KHTML, like Gecko) Chrome/111.0.0.0 Safari/537.36 OPR/97.0.0.0\"\n",
    "}"
   ]
  },
  {
   "cell_type": "code",
   "execution_count": 4,
   "metadata": {},
   "outputs": [],
   "source": [
    "path = '../data/'\n",
    "file_number = \"_1\"\n",
    "file_name = \"users_second_level\" + file_number + \".json\"\n",
    "\n",
    "data = load_json(path + file_name)"
   ]
  },
  {
   "cell_type": "code",
   "execution_count": 5,
   "metadata": {},
   "outputs": [],
   "source": [
    "all_users = data['users']\n",
    "\n",
    "\n",
    "url = \"https://servicodados.ibge.gov.br/api/v1/localidades/municipios\"\n",
    "response = requests.get(url)\n",
    "brazilian_cities = []\n",
    "\n",
    "if response.status_code == 200:\n",
    "    data = response.json()\n",
    "    for city in data:\n",
    "        brazilian_cities.append(city[\"nome\"])\n",
    "else:\n",
    "    print(\"Falha na solicitação à API\")"
   ]
  },
  {
   "cell_type": "code",
   "execution_count": 6,
   "metadata": {},
   "outputs": [],
   "source": [
    "dotenv.load_dotenv()\n",
    "EMAIL = os.getenv('EMAIL')\n",
    "PASSWORD = os.getenv('PASSWORD')\n",
    "\n",
    "options = Options()\n",
    "options.add_argument(\"--disable-infobars\")\n",
    "options.add_argument(\"start-maximized\")\n",
    "options.add_argument(\"--disable-extensions\")\n",
    "options.add_experimental_option(\"prefs\", {\"profile.default_content_setting_values.notifications\": 1})"
   ]
  },
  {
   "cell_type": "code",
   "execution_count": 8,
   "metadata": {},
   "outputs": [],
   "source": [
    "#browser = webdriver.Chrome(options=options)\n",
    "\n",
    "#browser.get(base_url + '/login')\n",
    "#browser.find_element(By.NAME,\"username\").send_keys(EMAIL)\n",
    "#browser.find_element(By.NAME,\"password\").send_keys(PASSWORD)\n",
    "#time.sleep(30)"
   ]
  },
  {
   "cell_type": "markdown",
   "metadata": {},
   "source": [
    "Filtrando os IDs de usuários que são de cidades brasileiras ou têm grandes chances de ser (similaridade de 80% pelo menos entre os nomes das localizações e alguma cidade do Brasil) e salvando numa lista filtrada, bem como um dicionário para revisão:"
   ]
  },
  {
   "cell_type": "code",
   "execution_count": null,
   "metadata": {},
   "outputs": [],
   "source": [
    "brazilian_users = []\n",
    "to_review = {}\n",
    "\n",
    "logger.info(\"Iniciando uma sessão...\")\n",
    "with requests.Session() as session:\n",
    "    logger.info(\"A iteração começará agora...\")\n",
    "    iteration_time = Clock(\"Filtragem dos IDs de usuários\")\n",
    "    with tqdm(total=len(all_users)) as progress_bar:\n",
    "        progress_bar.set_description(\"Filtrando apenas os IDs de usuários que são de cidades brasileiras\")\n",
    "        for user in all_users:\n",
    "            try:\n",
    "                page = requests.get(base_url + user, headers=headers)\n",
    "                soup = BeautifulSoup(page.text, 'html.parser')\n",
    "                location = soup.select('div.user-details > p.location')[0].get_text()\n",
    "                if location != '':\n",
    "                    if location in brazilian_cities:\n",
    "                        logger.info(f\"Usuário brasileiro encontrado ({user}, cidade: {location})! Adicionando à nova lista...\")\n",
    "                        brazilian_users.append(user)\n",
    "                    else:\n",
    "                        similarity_threshold = 80\n",
    "                        for brazilian_city in brazilian_cities:\n",
    "                            similarity = fuzz.ratio(location, brazilian_city)\n",
    "                            if similarity >= similarity_threshold:\n",
    "                                logger.info(f\"Possível usuário brasileiro encontrado ({user}, cidade: {location}, {similarity}% de similaridade com {brazilian_city})! Adicionando à nova lista...\")\n",
    "                                brazilian_users.append(user)\n",
    "                                logger.info(\"Adicionando também ao dicionário de revisão manual...\")\n",
    "                                to_review[user]= location\n",
    "                                file_to_review = \"users_second_level_to_review\" + file_number + \".json\"\n",
    "                                export_json(to_review, path + file_to_review)\n",
    "                                break\n",
    "                progress_bar.update(1)\n",
    "                possible_br_users_json = {'possible_br_users_second_level_': brazilian_users}\n",
    "                possible_br_users_file_name = \"possible_brazilian_second_level_beer_user_links\" + file_number + \".json\"\n",
    "                export_json(possible_br_users_json, path + possible_br_users_file_name)\n",
    "            except IndexError:\n",
    "                print(f\"Elemento não encontrado para o usuário: {user}\")\n",
    "                progress_bar.update(1)\n",
    "                continue\n",
    "    iteration_time.stop_watch()\n",
    "logger.info(f\"Operação concluída! A lista filtrada possui {len(brazilian_users)} IDs de usuários.\")"
   ]
  },
  {
   "cell_type": "code",
   "execution_count": null,
   "metadata": {},
   "outputs": [],
   "source": [
    "logger.info(f\"Dos {len(brazilian_users)} usuários resultantes, {len(to_review)} ({len(to_review)/len(brazilian_users)*100:.2f}%) foram adicionados com base na similaridade e devem ser revisados.\")"
   ]
  },
  {
   "cell_type": "markdown",
   "metadata": {},
   "source": [
    "Exportando os dados:"
   ]
  },
  {
   "cell_type": "code",
   "execution_count": null,
   "metadata": {},
   "outputs": [],
   "source": [
    "possible_br_users_json = {'possible_br_users_second_level_': brazilian_users}\n",
    "possible_br_users_file_name = \"possible_brazilian_second_level_beer_user_links\" + file_number + \".json\"\n",
    "\n",
    "logger.info('Salvando a lista de IDs de usuários filtrados num arquivo JSON...')\n",
    "export_json(possible_br_users_json, path + possible_br_users_file_name)\n",
    "logger.info(\"Exportação concluída! O arquivo resultante se encontra dentro da pasta 'data' com o nome 'possible_brazilian_second_level_beer_user_links.json'.\")\n",
    "\n",
    "\n",
    "file_to_review = \"users_second_level_to_review\" + file_number + \".json\"\n",
    "logger.info('Salvando a lista de IDs de usuários que precisam de revisão num arquivo JSON...')\n",
    "export_json(to_review, path + file_to_review)\n",
    "logger.info(\"Exportação concluída! O arquivo resultante se encontra dentro da pasta 'data' com o nome 'users_second_level_to_review.json'.\")"
   ]
  },
  {
   "cell_type": "markdown",
   "metadata": {},
   "source": [
    "### Removendo usuários cuja similaridade da cidade era elevada mas não são brasileiros:"
   ]
  },
  {
   "cell_type": "markdown",
   "metadata": {},
   "source": [
    "Carregando o dicionário de revisão original e uma versão manualmente filtrada:"
   ]
  },
  {
   "cell_type": "code",
   "execution_count": null,
   "metadata": {},
   "outputs": [],
   "source": [
    "#path = '../data/'\n",
    "#file_to_review = \"users_second_level_to_review.json\"\n",
    "#file_to_review_filtered = \"users_second_level_to_review_filtered.json\"\n",
    "\n",
    "#to_review = load_json(path + file_to_review)\n",
    "#to_review_filtered = load_json(path + file_to_review_filtered)"
   ]
  },
  {
   "cell_type": "markdown",
   "metadata": {},
   "source": [
    "Agora, vamos filtrar a lista de usuários completa para remover os que não são brasileiros e exportá-la:"
   ]
  },
  {
   "cell_type": "code",
   "execution_count": null,
   "metadata": {},
   "outputs": [],
   "source": [
    "#logger.info('Extraindo os usuários que não são brasileiros...')\n",
    "#non_brazilian_users = {user: location for user, location in list(diff(to_review, to_review_filtered))[0][2]}\n",
    "#logger.info(f'{len(non_brazilian_users)} usuários não são brasileiros!')"
   ]
  },
  {
   "cell_type": "code",
   "execution_count": null,
   "metadata": {},
   "outputs": [],
   "source": [
    "#brazilian_users = ([user for user in brazilian_users if user not in set(non_brazilian_users.keys())])\n",
    "#logger.info(f'Após a filtragem, a lista de usuários brasileiros passou a ter {len(brazilian_users)} IDs de usuários')"
   ]
  },
  {
   "cell_type": "code",
   "execution_count": null,
   "metadata": {},
   "outputs": [],
   "source": [
    "#logger.info('Exportando a lista de usuários brasileiros...')\n",
    "#brazilian_users_json = {'brazilian_users': brazilian_users}\n",
    "#brazilian_users_file_name = 'brazilian_users_second_level.json'\n",
    "#export_json(brazilian_users_json, path + brazilian_users_file_name)\n",
    "#logger.info('Exportação concluída!')"
   ]
  }
 ],
 "metadata": {
  "kernelspec": {
   "display_name": "base",
   "language": "python",
   "name": "python3"
  },
  "language_info": {
   "codemirror_mode": {
    "name": "ipython",
    "version": 3
   },
   "file_extension": ".py",
   "mimetype": "text/x-python",
   "name": "python",
   "nbconvert_exporter": "python",
   "pygments_lexer": "ipython3",
   "version": "3.11.4"
  },
  "orig_nbformat": 4
 },
 "nbformat": 4,
 "nbformat_minor": 2
}

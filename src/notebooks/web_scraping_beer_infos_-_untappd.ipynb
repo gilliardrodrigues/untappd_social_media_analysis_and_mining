{
 "cells": [
  {
   "cell_type": "code",
   "execution_count": 10,
   "id": "a391f3f5",
   "metadata": {},
   "outputs": [
    {
     "name": "stdout",
     "output_type": "stream",
     "text": [
      "Requirement already satisfied: cchardet in s:\\anaconda\\lib\\site-packages (2.1.7)\n",
      "Requirement already satisfied: python-dotenv in s:\\anaconda\\lib\\site-packages (1.0.0)\n",
      "Collecting selenium\n",
      "  Downloading selenium-4.13.0-py3-none-any.whl (9.5 MB)\n",
      "Collecting certifi>=2021.10.8\n",
      "  Downloading certifi-2023.7.22-py3-none-any.whl (158 kB)\n",
      "Collecting trio-websocket~=0.9"
     ]
    },
    {
     "name": "stderr",
     "output_type": "stream",
     "text": [
      "ERROR: pip's dependency resolver does not currently take into account all the packages that are installed. This behaviour is the source of the following dependency conflicts.\n",
      "conda-repo-cli 1.0.4 requires pathlib, which is not installed.\n",
      "anaconda-project 0.9.1 requires ruamel-yaml, which is not installed.\n"
     ]
    },
    {
     "name": "stdout",
     "output_type": "stream",
     "text": [
      "\n",
      "  Downloading trio_websocket-0.11.1-py3-none-any.whl (17 kB)\n",
      "Collecting trio~=0.17\n",
      "  Downloading trio-0.22.2-py3-none-any.whl (400 kB)\n",
      "Requirement already satisfied: urllib3[socks]<3,>=1.26 in s:\\anaconda\\lib\\site-packages (from selenium) (1.26.4)\n",
      "Requirement already satisfied: sniffio in s:\\anaconda\\lib\\site-packages (from trio~=0.17->selenium) (1.2.0)\n",
      "Requirement already satisfied: idna in s:\\anaconda\\lib\\site-packages (from trio~=0.17->selenium) (2.10)\n",
      "Requirement already satisfied: cffi>=1.14 in s:\\anaconda\\lib\\site-packages (from trio~=0.17->selenium) (1.14.5)\n",
      "Requirement already satisfied: attrs>=20.1.0 in s:\\anaconda\\lib\\site-packages (from trio~=0.17->selenium) (20.3.0)\n",
      "Collecting exceptiongroup>=1.0.0rc9\n",
      "  Downloading exceptiongroup-1.1.3-py3-none-any.whl (14 kB)\n",
      "Collecting outcome\n",
      "  Downloading outcome-1.2.0-py2.py3-none-any.whl (9.7 kB)\n",
      "Requirement already satisfied: sortedcontainers in s:\\anaconda\\lib\\site-packages (from trio~=0.17->selenium) (2.3.0)\n",
      "Requirement already satisfied: pycparser in s:\\anaconda\\lib\\site-packages (from cffi>=1.14->trio~=0.17->selenium) (2.20)\n",
      "Collecting wsproto>=0.14\n",
      "  Downloading wsproto-1.2.0-py3-none-any.whl (24 kB)\n",
      "Requirement already satisfied: PySocks!=1.5.7,<2.0,>=1.5.6 in s:\\anaconda\\lib\\site-packages (from urllib3[socks]<3,>=1.26->selenium) (1.7.1)\n",
      "Collecting h11<1,>=0.9.0\n",
      "  Downloading h11-0.14.0-py3-none-any.whl (58 kB)\n",
      "Installing collected packages: outcome, h11, exceptiongroup, wsproto, trio, trio-websocket, certifi, selenium\n",
      "  Attempting uninstall: certifi\n",
      "    Found existing installation: certifi 2020.12.5\n",
      "    Uninstalling certifi-2020.12.5:\n",
      "      Successfully uninstalled certifi-2020.12.5\n",
      "Successfully installed certifi-2023.7.22 exceptiongroup-1.1.3 h11-0.14.0 outcome-1.2.0 selenium-4.13.0 trio-0.22.2 trio-websocket-0.11.1 wsproto-1.2.0\n"
     ]
    }
   ],
   "source": [
    "!pip install cchardet\n",
    "!pip install python-dotenv\n",
    "!pip install selenium"
   ]
  },
  {
   "cell_type": "code",
   "execution_count": 22,
   "id": "9e64357c",
   "metadata": {},
   "outputs": [],
   "source": [
    "# Para usar o sleep:\n",
    "import time\n",
    "# Para logs:\n",
    "from tqdm import tqdm\n",
    "import logging\n",
    "import sys\n",
    "sys.path.append('../utils')\n",
    "from utils import get_logger, Clock, export_json\n",
    "# Para web scraping:\n",
    "import requests\n",
    "from bs4 import BeautifulSoup, SoupStrainer\n",
    "import cchardet\n",
    "# Para acessar as credenciais de login de um arquivo externo:\n",
    "import os\n",
    "import dotenv\n",
    "# Para navegar na página além do botão 'Show more':\n",
    "from selenium import webdriver\n",
    "from selenium.webdriver.chrome.service import Service\n",
    "from selenium.webdriver.chrome.options import Options\n",
    "from selenium.webdriver.common.by import By\n",
    "from selenium.webdriver.support.ui import WebDriverWait \n",
    "from selenium.webdriver.support import expected_conditions as EC\n",
    "# Contador\n",
    "from itertools import count\n",
    "# Manipulação de JSON:\n",
    "import json\n",
    "#from dictdiffer import diff\n",
    "# Para calcular similaridade entre strings:\n",
    "#from thefuzz import fuzz"
   ]
  },
  {
   "cell_type": "markdown",
   "id": "665c142a",
   "metadata": {},
   "source": [
    "Inicializando o logger:"
   ]
  },
  {
   "cell_type": "code",
   "execution_count": 3,
   "id": "6943d163",
   "metadata": {},
   "outputs": [],
   "source": [
    "logger = logging.getLogger(__name__)\n",
    "logger = get_logger(logger=logger)"
   ]
  },
  {
   "cell_type": "markdown",
   "id": "9083f2cb",
   "metadata": {},
   "source": [
    "### Obtendo os links das cervejas brasileiras do _Untappd_:"
   ]
  },
  {
   "cell_type": "markdown",
   "id": "4d1038c6",
   "metadata": {},
   "source": [
    "Fazendo uma requisição GET à página web que contém as cervejas brasileiras na seção _top rated_ da rede social _Untappd_ e transformando o resultado em um objeto BeautifulSoup:"
   ]
  },
  {
   "cell_type": "code",
   "execution_count": 4,
   "id": "91b27da0",
   "metadata": {},
   "outputs": [],
   "source": [
    "base_url = 'https://untappd.com'\n",
    "headers = {\n",
    "    \"User-Agent\":\n",
    "    \"Mozilla/5.0 (Windows NT 10.0; Win64; x64) AppleWebKit/537.36 (KHTML, like Gecko) Chrome/111.0.0.0 Safari/537.36 OPR/97.0.0.0\"\n",
    "}\n",
    "payload = {'country': 'brazil'}\n",
    "\n",
    "page = requests.get(base_url + '/beer/top_rated', params=payload, headers=headers)\n",
    "\n",
    "soup = BeautifulSoup(page.text, 'html.parser')\n",
    "\n",
    "#print(soup.prettify())"
   ]
  },
  {
   "cell_type": "markdown",
   "id": "76ee9bd5",
   "metadata": {},
   "source": [
    "Minerando os links de todas as cervejas brasileiras e armazenando em uma lista:"
   ]
  },
  {
   "cell_type": "code",
   "execution_count": 5,
   "id": "6bf20598",
   "metadata": {},
   "outputs": [
    {
     "name": "stderr",
     "output_type": "stream",
     "text": [
      "2023-10-01 12:26:29,391 - INFO - Coletando links de cervejas brasileiras do 'top rated'...\n",
      "2023-10-01 12:26:29,410 - INFO - Feito.\n"
     ]
    },
    {
     "data": {
      "text/plain": [
       "['/b/spartacus-brewing-iii-three/4283069',\n",
       " '/b/spartacus-brewing-v-five/5285289',\n",
       " '/b/spartacus-brewing-iv-four/4756418',\n",
       " '/b/hocus-pocus-overdrive/1682105',\n",
       " '/b/spartacus-brewing-arete-tomo-2/4542383',\n",
       " '/b/salvador-brewing-co-cookie-de-chocolate/2908960',\n",
       " '/b/hocus-pocus-elephants-graveyard/2769185',\n",
       " '/b/cervejaria-dogma-rizoma/1536694',\n",
       " '/b/spartacus-brewing-arete-tomo-1/4098457',\n",
       " '/b/hocus-pocus-supersymmetry/1930404',\n",
       " '/b/spartacus-brewing-etera-tomo-5/4769967',\n",
       " '/b/koala-san-brew-cosmic-blur/3452440',\n",
       " '/b/trilha-cervejaria-pao-de-mel/3252352',\n",
       " '/b/hocus-pocus-rabbit-hole/2321900',\n",
       " '/b/spartacus-brewing-fwiw/3905760',\n",
       " '/b/cervejaria-dogma-mosaic-lover/1698497',\n",
       " '/b/salvador-brewing-co-engesa-oil-coffee-edition/3036359',\n",
       " '/b/spartacus-brewing-barrel-aged-icon-double-chocolate-peanut-butter/5076259',\n",
       " '/b/mad-dwarf-brewery-md-oloroso-2017/2957221',\n",
       " '/b/5-elementos-cervejaria-artesanal-coffee-and-pancake-brunch-stout/2546467',\n",
       " '/b/cervejaria-dogma-morning-gringo/2654090',\n",
       " '/b/spartacus-brewing-icon-neapolitan-ice-cream/3612101',\n",
       " '/b/salvador-brewing-co-the-beans/3834457',\n",
       " '/b/cervejaria-dogma-magnum-opus/1973050',\n",
       " '/b/spartacus-brewing-gun-of-a-son/3830631',\n",
       " '/b/spartacus-brewing-the-script/4192848',\n",
       " '/b/spartacus-brewing-arete-tomo-4/4947303',\n",
       " '/b/spartacus-brewing-courage/4301761',\n",
       " '/b/cervejaria-bold-brewing-coffee-maple-noda/2807907',\n",
       " '/b/cervejaria-dadiva-ephemeral-goiaba-maracuja-coco-e-baunilha/3892105',\n",
       " '/b/cervejaria-everbrew-ever-kings/2809305',\n",
       " '/b/cervejaria-everbrew-double-maine/3124389',\n",
       " '/b/tarin-cervejaria-sempre-viva/3925482',\n",
       " '/b/tarin-cervejaria-de-colher-avela-flor-de-sal-e-caramelo/3914778',\n",
       " '/b/cervejaria-dogma-citra-lover/1641577',\n",
       " '/b/cervejaria-everbrew-maine-berry-gelato/3817209',\n",
       " '/b/5-elementos-cervejaria-artesanal-reserve-2018/2625857',\n",
       " '/b/hankzbier-i-don-t-know-what-to-say-to-you/3810380',\n",
       " '/b/cervejaria-everbrew-double-mont/3355734',\n",
       " '/b/5-elementos-cervejaria-artesanal-dogmatic-element-1-2018/2623547',\n",
       " '/b/haunted-brewing-ka-kau-b1/3071566',\n",
       " '/b/bodebrown-wee-heavy-amburana-wood-aged-series-2014/879045',\n",
       " '/b/spartacus-brewing-icon-chocolate-peanut-butter/3446672',\n",
       " '/b/cervejaria-octopus-octopus-garden/2192756',\n",
       " '/b/spartacus-brewing-arete-tomo-3/4859482',\n",
       " '/b/koala-san-brew-nuclear-fusion/2570413',\n",
       " '/b/spartacus-brewing-art-of-memory/4144268',\n",
       " '/b/spartacus-brewing-ba-icon-chocolate-peanut-butter/4580145',\n",
       " '/b/cervejaria-dogma-rizoma-ii/1789613',\n",
       " '/b/spartacus-brewing-bullet-proof/4256303']"
      ]
     },
     "execution_count": 5,
     "metadata": {},
     "output_type": "execute_result"
    }
   ],
   "source": [
    "logger.info(\"Coletando links de cervejas brasileiras do 'top rated'...\")\n",
    "brazilian_beer_links = [a_tag.get('href') for a_tag in soup.select('div.beer-item > a:first-child')]\n",
    "logger.info(\"Feito.\")\n",
    "brazilian_beer_links"
   ]
  },
  {
   "cell_type": "code",
   "execution_count": 6,
   "id": "cf9baa62",
   "metadata": {},
   "outputs": [
    {
     "name": "stderr",
     "output_type": "stream",
     "text": [
      "2023-10-01 12:26:33,579 - INFO - Número total de cervejas no 'top rated' do Brasil: 50\n"
     ]
    }
   ],
   "source": [
    "number_of_brazilian_beer_links = len(brazilian_beer_links)\n",
    "logger.info(f\"Número total de cervejas no 'top rated' do Brasil: {number_of_brazilian_beer_links}\")"
   ]
  },
  {
   "cell_type": "markdown",
   "id": "cfbb832b",
   "metadata": {},
   "source": [
    "### Acessando as páginas completas das cervejas com Selenium:"
   ]
  },
  {
   "cell_type": "markdown",
   "id": "f66f682e",
   "metadata": {},
   "source": [
    "Carregando as credenciais de acesso:"
   ]
  },
  {
   "cell_type": "code",
   "execution_count": 7,
   "id": "27eb9ef7",
   "metadata": {},
   "outputs": [],
   "source": [
    "dotenv.load_dotenv()\n",
    "EMAIL = os.getenv('EMAIL')\n",
    "PASSWORD = os.getenv('PASSWORD')"
   ]
  },
  {
   "cell_type": "markdown",
   "id": "ef32044a",
   "metadata": {},
   "source": [
    "Definindo as opções do navegador que o Selenium usará:"
   ]
  },
  {
   "cell_type": "code",
   "execution_count": 8,
   "id": "71f02bf8",
   "metadata": {},
   "outputs": [],
   "source": [
    "options = Options()\n",
    "options.add_argument(\"--disable-infobars\")\n",
    "options.add_argument(\"start-maximized\")\n",
    "options.add_argument(\"--disable-extensions\")\n",
    "options.add_experimental_option(\"prefs\", {\"profile.default_content_setting_values.notifications\": 1})"
   ]
  },
  {
   "cell_type": "markdown",
   "id": "3ed4e961",
   "metadata": {},
   "source": [
    "Acessando a página completa de cada cerveja do _top rated_ do Brasil clicando no link 'Show more' e minerando os IDs de usuários:"
   ]
  },
  {
   "cell_type": "code",
   "execution_count": 17,
   "id": "9c60c5be",
   "metadata": {},
   "outputs": [
    {
     "name": "stderr",
     "output_type": "stream",
     "text": [
      "2023-10-01 12:59:46,548 - INFO - Iniciando uma sessão...\n",
      "2023-10-01 12:59:46,551 - INFO - A iteração começará agora...\n",
      "Coletando as top 50 cervejas melhor avaliadas do Brasil: 100%|█████████████████████████| 50/50 [00:49<00:00,  1.02it/s]2023-10-01 13:00:35,824 - INFO - Coleta das infos das cervejas levou 49s para ser executado.\n",
      "Coletando as top 50 cervejas melhor avaliadas do Brasil: 100%|█████████████████████████| 50/50 [00:49<00:00,  1.01it/s]\n",
      "2023-10-01 13:00:35,828 - INFO - Operação concluída! A lista filtrada possui 50 cervejas.\n"
     ]
    },
    {
     "name": "stdout",
     "output_type": "stream",
     "text": [
      "[{'name': 'III (Three)', 'style': 'Stout - Imperial / Double', 'brand': 'Spartacus Brewing'}, {'name': 'V (Five)', 'style': 'Stout - Imperial / Double', 'brand': 'Spartacus Brewing'}, {'name': 'IV (Four)', 'style': 'Stout - Imperial / Double', 'brand': 'Spartacus Brewing'}, {'name': 'Overdrive', 'style': 'IPA - Imperial / Double New England / Hazy', 'brand': 'Hocus Pocus'}, {'name': 'Aretê - Tomo 2', 'style': 'Stout - Imperial / Double', 'brand': 'Spartacus Brewing'}, {'name': 'Cookie de Chocolate', 'style': 'Stout - Imperial / Double Pastry', 'brand': 'Salvador Brewing Co.'}, {'name': \"Elephants' Graveyard\", 'style': 'Stout - Imperial / Double Pastry', 'brand': 'Hocus Pocus'}, {'name': 'Rizoma', 'style': 'IPA - Imperial / Double', 'brand': 'Cervejaria Dogma'}, {'name': 'Aretê - Tomo 1', 'style': 'Stout - Imperial / Double', 'brand': 'Spartacus Brewing'}, {'name': 'SuperSymmetry', 'style': 'IPA - Triple New England / Hazy', 'brand': 'Hocus Pocus'}, {'name': 'Etera - Tomo 5', 'style': 'Stout - Imperial / Double', 'brand': 'Spartacus Brewing'}, {'name': 'Cosmic Blur', 'style': 'Stout - Russian Imperial', 'brand': 'Koala San Brew'}, {'name': 'Pão de Mel', 'style': 'Stout - Imperial / Double Pastry', 'brand': 'Trilha Cervejaria'}, {'name': 'Rabbit Hole', 'style': 'Stout - Imperial / Double', 'brand': 'Hocus Pocus'}, {'name': 'FWIW', 'style': 'IPA - Imperial / Double New England / Hazy', 'brand': 'Spartacus Brewing'}, {'name': 'Mosaic Lover', 'style': 'IPA - Imperial / Double', 'brand': 'Cervejaria Dogma'}, {'name': 'ENGESA Oil - Coffee Edition', 'style': 'Stout - Russian Imperial', 'brand': 'Salvador Brewing Co.'}, {'name': 'Barrel Aged ICON Double Chocolate Peanut Butter', 'style': 'Stout - Imperial / Double Pastry', 'brand': 'Spartacus Brewing'}, {'name': 'MD Oloroso (2017)', 'style': 'Barleywine - Other', 'brand': 'Mad Dwarf Brewery'}, {'name': 'Coffee & Pancake Brunch Stout', 'style': 'Stout - Imperial / Double Oatmeal', 'brand': '5 Elementos Cervejaria Artesanal'}, {'name': 'Morning Gringo', 'style': 'Stout - Russian Imperial', 'brand': 'Cervejaria Dogma'}, {'name': 'ICON Neapolitan Ice Cream', 'style': 'Stout - Imperial / Double Pastry', 'brand': 'Spartacus Brewing'}, {'name': 'The Beans', 'style': 'Stout - Imperial / Double Coffee', 'brand': 'Salvador Brewing Co.'}, {'name': 'Magnum Opus', 'style': 'IPA - Imperial / Double New England / Hazy', 'brand': 'Cervejaria Dogma'}, {'name': 'Gun of a Son', 'style': 'IPA - Triple New England / Hazy', 'brand': 'Spartacus Brewing'}, {'name': 'The Script', 'style': 'IPA - Triple New England / Hazy', 'brand': 'Spartacus Brewing'}, {'name': 'Aretê - Tomo 4', 'style': 'Stout - Imperial / Double', 'brand': 'Spartacus Brewing'}, {'name': 'Courage', 'style': 'IPA - Imperial / Double New England / Hazy', 'brand': 'Spartacus Brewing'}, {'name': 'Coffee Maple NODA', 'style': 'Stout - Imperial / Double', 'brand': 'Bold Brewing'}, {'name': 'Ephemeral Goiaba, Maracujá, Coco e Baunilha', 'style': 'Sour - Fruited', 'brand': 'Cervejaria Dádiva'}, {'name': 'EVER KINGS', 'style': 'IPA - Imperial / Double New England / Hazy', 'brand': 'Cervejaria EverBrew'}, {'name': 'DOUBLE MAINE', 'style': 'IPA - Imperial / Double New England / Hazy', 'brand': 'Cervejaria EverBrew'}, {'name': 'Sempre-Viva', 'style': 'IPA - Imperial / Double New England / Hazy', 'brand': 'Tarin Cervejaria'}, {'name': 'De Colher (Avelã, Flor de Sal e Caramelo)', 'style': 'Stout - Pastry', 'brand': 'Tarin Cervejaria'}, {'name': 'Citra Lover', 'style': 'IPA - Imperial / Double', 'brand': 'Cervejaria Dogma'}, {'name': 'MAINE BERRY GELATO', 'style': 'IPA - New England / Hazy', 'brand': 'Cervejaria EverBrew'}, {'name': 'Reserve 2018', 'style': 'Stout - Imperial / Double', 'brand': '5 Elementos Cervejaria Artesanal'}, {'name': \"I Don't Know What to Say to You\", 'style': 'Stout - Imperial / Double Pastry', 'brand': 'Hankzbier'}, {'name': 'DOUBLE MONT', 'style': 'IPA - Imperial / Double New England / Hazy', 'brand': 'Cervejaria EverBrew'}, {'name': 'Dogmatic Element #1 - 2018', 'style': 'Stout - Imperial / Double Milk', 'brand': '5 Elementos Cervejaria Artesanal'}, {'name': \"Ka'Kau B1\", 'style': 'Stout - Russian Imperial', 'brand': 'Haunted Brewing'}, {'name': 'Wee Heavy Wood Aged Series Amburana (2014)', 'style': 'Scotch Ale / Wee Heavy', 'brand': 'Bodebrown'}, {'name': 'ICON Chocolate Peanut Butter', 'style': 'Stout - Imperial / Double Pastry', 'brand': 'Spartacus Brewing'}, {'name': \"Octopus' Garden\", 'style': 'IPA - Imperial / Double New England / Hazy', 'brand': 'Cervejaria Octopus'}, {'name': 'Aretê - Tomo 3', 'style': 'Stout - Imperial / Double', 'brand': 'Spartacus Brewing'}, {'name': 'Nuclear Fusion', 'style': 'IPA - Imperial / Double New England / Hazy', 'brand': 'Koala San Brew'}, {'name': 'Art of Memory', 'style': 'IPA - Triple New England / Hazy', 'brand': 'Spartacus Brewing'}, {'name': 'BA ICON Chocolate Peanut Butter', 'style': 'Stout - Russian Imperial', 'brand': 'Spartacus Brewing'}, {'name': 'Rizoma II', 'style': 'IPA - Imperial / Double', 'brand': 'Cervejaria Dogma'}, {'name': 'Bullet Proof', 'style': 'IPA - Triple New England / Hazy', 'brand': 'Spartacus Brewing'}]\n"
     ]
    }
   ],
   "source": [
    "browser = webdriver.Chrome(options=options)\n",
    "\n",
    "browser.get(base_url + '/login')\n",
    "browser.find_element(By.NAME,\"username\").send_keys(EMAIL)\n",
    "browser.find_element(By.NAME,\"password\").send_keys(PASSWORD)\n",
    "time.sleep(30)\n",
    "\n",
    "top_rated_beers = []\n",
    "logger.info(\"Iniciando uma sessão...\")\n",
    "with requests.Session() as session:\n",
    "    logger.info(\"A iteração começará agora...\")\n",
    "    iteration_time = Clock(\"Coleta das infos das cervejas\")\n",
    "    with tqdm(total=number_of_brazilian_beer_links) as progress_bar:\n",
    "        progress_bar.set_description(\"Coletando as top 50 cervejas melhor avaliadas do Brasil\")\n",
    "        for beer_url in brazilian_beer_links:\n",
    "                try:\n",
    "                    page = requests.get(base_url + beer_url, headers=headers)\n",
    "                    soup = BeautifulSoup(page.text, 'html.parser')\n",
    "                    name = soup.select('div.name > h1')[0].get_text()\n",
    "                    brand = soup.select('p.brewery > a')[0].get_text()\n",
    "                    style = soup.select('p.style')[0].get_text()\n",
    "                    new_beer = {'name': name, 'style': style, 'brand': brand}\n",
    "                    top_rated_beers.append(new_beer)\n",
    "                    progress_bar.update(1)\n",
    "                except IndexError:\n",
    "                    print(f\"Elemento não encontrado para a cerveja: {beer_url}\")\n",
    "                    progress_bar.update(1)\n",
    "                    continue\n",
    "        iteration_time.stop_watch()\n",
    "    logger.info(f\"Operação concluída! A lista filtrada possui {len(top_rated_beers)} cervejas.\")\n",
    "    \n",
    "    print(top_rated_beers)"
   ]
  },
  {
   "cell_type": "code",
   "execution_count": 26,
   "id": "e7603f17",
   "metadata": {},
   "outputs": [
    {
     "name": "stderr",
     "output_type": "stream",
     "text": [
      "2023-10-01 13:35:34,908 - INFO - Exportando a lista de cervejas coletadas na forma de um JSON...\n",
      "2023-10-01 13:35:34,911 - INFO - Exportado!\n"
     ]
    }
   ],
   "source": [
    "path = '../data/'\n",
    "file_name = 'top_rated_beers.json'\n",
    "\n",
    "logger.info('Exportando a lista de cervejas coletadas na forma de um JSON...')\n",
    "export_json(top_rated_beers, path + file_name)\n",
    "logger.info('Exportado!')"
   ]
  }
 ],
 "metadata": {
  "kernelspec": {
   "display_name": "Python 3",
   "language": "python",
   "name": "python3"
  },
  "language_info": {
   "codemirror_mode": {
    "name": "ipython",
    "version": 3
   },
   "file_extension": ".py",
   "mimetype": "text/x-python",
   "name": "python",
   "nbconvert_exporter": "python",
   "pygments_lexer": "ipython3",
   "version": "3.8.8"
  },
  "toc": {
   "base_numbering": 1,
   "nav_menu": {},
   "number_sections": true,
   "sideBar": true,
   "skip_h1_title": false,
   "title_cell": "Table of Contents",
   "title_sidebar": "Contents",
   "toc_cell": false,
   "toc_position": {},
   "toc_section_display": true,
   "toc_window_display": false
  }
 },
 "nbformat": 4,
 "nbformat_minor": 5
}

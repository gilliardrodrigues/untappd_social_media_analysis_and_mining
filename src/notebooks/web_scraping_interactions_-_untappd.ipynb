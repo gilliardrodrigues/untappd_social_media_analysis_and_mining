{
 "cells": [
  {
   "cell_type": "code",
   "execution_count": 13,
   "metadata": {},
   "outputs": [],
   "source": [
    "# Para usar o sleep:\n",
    "import time\n",
    "# Para logs:\n",
    "from tqdm import tqdm\n",
    "import logging\n",
    "import sys\n",
    "sys.path.append('../utils')\n",
    "from utils import get_logger, Clock, load_json, export_json\n",
    "# Para web scraping:\n",
    "import requests\n",
    "from bs4 import BeautifulSoup, SoupStrainer\n",
    "# Para acessar as credenciais de login de um arquivo externo:\n",
    "import os\n",
    "import dotenv\n",
    "# Para navegar na página além do botão 'Show more':\n",
    "from selenium import webdriver\n",
    "from selenium.webdriver.chrome.options import Options\n",
    "from selenium.webdriver.common.by import By\n",
    "from selenium.webdriver.support import expected_conditions as EC"
   ]
  },
  {
   "cell_type": "code",
   "execution_count": 2,
   "metadata": {},
   "outputs": [],
   "source": [
    "logger = logging.getLogger(__name__)\n",
    "logger = get_logger(logger=logger)"
   ]
  },
  {
   "cell_type": "code",
   "execution_count": 3,
   "metadata": {},
   "outputs": [],
   "source": [
    "base_url = 'https://untappd.com'\n",
    "headers = {\n",
    "    \"User-Agent\":\n",
    "    \"Mozilla/5.0 (Windows NT 10.0; Win64; x64) AppleWebKit/537.36 (KHTML, like Gecko) Chrome/111.0.0.0 Safari/537.36 OPR/97.0.0.0\"\n",
    "}\n",
    "payload = {'country': 'brazil'}\n",
    "\n",
    "page = requests.get(base_url + '/beer/top_rated', params=payload, headers=headers)\n",
    "\n",
    "soup = BeautifulSoup(page.text, 'html.parser')\n",
    "\n",
    "#print(soup.prettify())"
   ]
  },
  {
   "cell_type": "code",
   "execution_count": 4,
   "metadata": {},
   "outputs": [
    {
     "name": "stderr",
     "output_type": "stream",
     "text": [
      "2023-11-18 18:52:38,518 - INFO - Coletando links de cervejas brasileiras do 'top rated'...\n",
      "2023-11-18 18:52:38,545 - INFO - Feito.\n"
     ]
    },
    {
     "data": {
      "text/plain": [
       "['/b/spartacus-brewing-iii-three/4283069',\n",
       " '/b/spartacus-brewing-v-five/5285289',\n",
       " '/b/spartacus-brewing-iv-four/4756418',\n",
       " '/b/hocus-pocus-overdrive/1682105',\n",
       " '/b/spartacus-brewing-arete-tomo-2/4542383',\n",
       " '/b/salvador-brewing-co-cookie-de-chocolate/2908960',\n",
       " '/b/spartacus-brewing-etera-tomo-5/4769967',\n",
       " '/b/hocus-pocus-elephants-graveyard/2769185',\n",
       " '/b/spartacus-brewing-arete-tomo-1/4098457',\n",
       " '/b/cervejaria-dogma-rizoma/1536694',\n",
       " '/b/hocus-pocus-supersymmetry/1930404',\n",
       " '/b/koala-san-brew-cosmic-blur/3452440',\n",
       " '/b/trilha-cervejaria-pao-de-mel/3252352',\n",
       " '/b/hocus-pocus-rabbit-hole/2321900',\n",
       " '/b/spartacus-brewing-fwiw/3905760',\n",
       " '/b/spartacus-brewing-barrel-aged-icon-double-chocolate-peanut-butter/5076259',\n",
       " '/b/cervejaria-dogma-mosaic-lover/1698497',\n",
       " '/b/salvador-brewing-co-engesa-oil-coffee-edition/3036359',\n",
       " '/b/mad-dwarf-brewery-md-oloroso-2017/2957221',\n",
       " '/b/5-elementos-cervejaria-artesanal-coffee-and-pancake-brunch-stout/2546467',\n",
       " '/b/cervejaria-dogma-morning-gringo/2654090',\n",
       " '/b/spartacus-brewing-icon-neapolitan-ice-cream/3612101',\n",
       " '/b/salvador-brewing-co-the-beans/3834457',\n",
       " '/b/cervejaria-dogma-magnum-opus/1973050',\n",
       " '/b/spartacus-brewing-arete-tomo-4/4947303',\n",
       " '/b/spartacus-brewing-gun-of-a-son/3830631',\n",
       " '/b/spartacus-brewing-the-script/4192848',\n",
       " '/b/spartacus-brewing-courage/4301761',\n",
       " '/b/cervejaria-bold-brewing-coffee-maple-noda/2807907',\n",
       " '/b/cervejaria-dadiva-ephemeral-goiaba-maracuja-coco-e-baunilha/3892105',\n",
       " '/b/tarin-cervejaria-sempre-viva/3925482',\n",
       " '/b/cervejaria-everbrew-ever-kings/2809305',\n",
       " '/b/hankzbier-i-don-t-know-what-to-say-to-you/3810380',\n",
       " '/b/tarin-cervejaria-de-colher-avela-flor-de-sal-e-caramelo/3914778',\n",
       " '/b/cervejaria-everbrew-double-maine/3124389',\n",
       " '/b/cervejaria-dogma-citra-lover/1641577',\n",
       " '/b/cervejaria-everbrew-maine-berry-gelato/3817209',\n",
       " '/b/5-elementos-cervejaria-artesanal-reserve-2018/2625857',\n",
       " '/b/cervejaria-everbrew-double-mont/3355734',\n",
       " '/b/5-elementos-cervejaria-artesanal-dogmatic-element-1-2018/2623547',\n",
       " '/b/haunted-brewing-ka-kau-b1/3071566',\n",
       " '/b/bodebrown-wee-heavy-amburana-wood-aged-series-2014/879045',\n",
       " '/b/spartacus-brewing-icon-chocolate-peanut-butter/3446672',\n",
       " '/b/spartacus-brewing-arete-tomo-3/4859482',\n",
       " '/b/cervejaria-octopus-octopus-garden/2192756',\n",
       " '/b/koala-san-brew-nuclear-fusion/2570413',\n",
       " '/b/spartacus-brewing-art-of-memory/4144268',\n",
       " '/b/spartacus-brewing-ba-icon-chocolate-peanut-butter/4580145',\n",
       " '/b/dude-brewing-red-power-the-creature-red-velvet-choco-cookie-stout/5360294',\n",
       " '/b/cervejaria-dogma-rizoma-ii/1789613']"
      ]
     },
     "execution_count": 4,
     "metadata": {},
     "output_type": "execute_result"
    }
   ],
   "source": [
    "logger.info(\"Coletando links de cervejas brasileiras do 'top rated'...\")\n",
    "brazilian_beer_links = [a_tag.get('href') for a_tag in soup.select('div.beer-item > a:first-child')]\n",
    "logger.info(\"Feito.\")\n",
    "brazilian_beer_links"
   ]
  },
  {
   "cell_type": "code",
   "execution_count": 5,
   "metadata": {},
   "outputs": [
    {
     "name": "stderr",
     "output_type": "stream",
     "text": [
      "2023-11-18 18:52:41,774 - INFO - Número total de cervejas no 'top rated' do Brasil: 50\n"
     ]
    }
   ],
   "source": [
    "number_of_brazilian_beer_links = len(brazilian_beer_links)\n",
    "logger.info(f\"Número total de cervejas no 'top rated' do Brasil: {number_of_brazilian_beer_links}\")"
   ]
  },
  {
   "cell_type": "markdown",
   "metadata": {},
   "source": [
    "### Acessando as páginas completas das cervejas com Selenium:"
   ]
  },
  {
   "cell_type": "markdown",
   "metadata": {},
   "source": [
    "Carregando as credenciais de acesso:"
   ]
  },
  {
   "cell_type": "code",
   "execution_count": 9,
   "metadata": {},
   "outputs": [],
   "source": [
    "dotenv.load_dotenv()\n",
    "EMAIL = os.getenv('EMAIL')\n",
    "PASSWORD = os.getenv('PASSWORD')"
   ]
  },
  {
   "cell_type": "markdown",
   "metadata": {},
   "source": [
    "Definindo as opções do navegador que o Selenium usará:"
   ]
  },
  {
   "cell_type": "code",
   "execution_count": 10,
   "metadata": {},
   "outputs": [],
   "source": [
    "options = Options()\n",
    "options.add_argument(\"--disable-infobars\")\n",
    "options.add_argument(\"start-maximized\")\n",
    "options.add_argument(\"--disable-extensions\")\n",
    "options.add_experimental_option(\"prefs\", {\"profile.default_content_setting_values.notifications\": 1})"
   ]
  },
  {
   "cell_type": "markdown",
   "metadata": {},
   "source": [
    "Acessando a página completa de cada cerveja do _top rated_ do Brasil clicando no link 'Show more' e minerando os IDs de usuários:"
   ]
  },
  {
   "cell_type": "code",
   "execution_count": 15,
   "metadata": {},
   "outputs": [
    {
     "name": "stderr",
     "output_type": "stream",
     "text": [
      "2023-11-18 19:08:34,308 - INFO - Iniciando uma sessão...\n",
      "2023-11-18 19:08:34,310 - INFO - A iteração começará agora...\n",
      "Coletando os comentários das top 50 cervejas melhor avaliadas do Brasil: 100%|██████████| 50/50 [01:03<00:00,  1.05it/s]2023-11-18 19:09:37,867 - INFO - Coleta das infos das interações levou 01m03s para ser executado.\n",
      "Coletando os comentários das top 50 cervejas melhor avaliadas do Brasil: 100%|██████████| 50/50 [01:03<00:00,  1.27s/it]\n",
      "2023-11-18 19:09:37,869 - INFO - Operação concluída! A lista filtrada possui 50 cervejas.\n"
     ]
    },
    {
     "name": "stdout",
     "output_type": "stream",
     "text": [
      "[{'user': '\\n\\n', 'comment': '\\nLCI PITFEST '}, {'user': '\\n\\n', 'comment': '\\nSuch a nice stout. Chocolate and vanilla. Thick and smooth. '}, {'user': '\\n\\n', 'comment': '\\n4.5+ dopjes '}, {'user': '\\n\\n', 'comment': '\\nDia de revisitar um clássico da cena nacional! Vou manter a nota pelo apego e pelo o que representa. Quase 7 anos depois da primeira vez. '}, {'user': '\\n\\n', 'comment': '\\nTachtig🏎Tomo....d8 het niet. Wow wat een top🍺 uit 🇧🇷gebrouwen bij Bax in Grunn #Beerdome🍻😋💪🥳✅️ '}, {'user': '\\n\\n', 'comment': '\\n好喝 '}, {'user': '\\n\\n', 'comment': '\\nSPECTACULAR '}, {'user': '\\n\\n', 'comment': '\\nLCI '}, {'user': '\\n\\n', 'comment': '\\nTotalement Bourbon !!!! Barrel aged, vanille gourmande ! Une très belle découverte ! Merci Bapt P. !! Félicitations pour ta 5000eme !! '}, {'user': '\\n\\n', 'comment': '\\nUm clássico sempre é um clássico. '}, {'user': '\\n\\n', 'comment': '\\nGreat memories of this beer at the Patron open beer fest '}, {'user': '\\n\\n', 'comment': '\\nMelhor RIS que já bebi. Notas de cocada preta, chocolate ao leite e baunilha. Saúde 🍻 '}, {'user': '\\n\\n', 'comment': '\\nStrong af '}, {'user': '\\n\\n', 'comment': '\\nAlgo deu errado '}, {'user': '\\n\\n', 'comment': '\\nDikke, vette wauw '}, {'user': '\\n\\n', 'comment': '\\n花生酱巧克力咖啡，蛮干，比预期好 '}, {'user': '\\n\\n', 'comment': '\\nAté agora das lovers que tomei, a que ficou aquém das outras, no aroma tá bastante maracujá, cítrica e leve herbal. No sabor vem muito dulçor com um leve dank, atrapalhando a drinkability, álcool nulo. '}, {'user': '\\n\\n', 'comment': '\\n☀️ '}, {'user': '\\n\\n', 'comment': '\\nLate check-in 09/09/2022 '}, {'user': '\\n\\n', 'comment': '\\nInfection '}, {'user': '\\n\\n', 'comment': '\\nCafezao estralando, uau.\\nCafe, Maple, chocolate amargo. Abv passando despercebido. '}, {'user': '\\n\\n', 'comment': '\\nMesmo após mais de 12 mesmas guardada, estava excelente!!! Vivaça '}, {'user': '\\n\\n', 'comment': '\\nVery strong, very tasty. Like a dessert '}, {'user': '\\n\\n', 'comment': '\\nToday is the day '}, {'user': '\\n\\n', 'comment': \"\\n4,65. Quelle claque. Quel équilibre. Sirupeux, profond, torréfié, boisé, café cacao tour ce que tu veux de l'IS mais surtout hyper harmonieux. Ça se sirote certes, mais on est pas écoeuré. Bombe de saveur... \"}, {'user': '\\n\\n', 'comment': '\\nLate 10/02/21 '}, {'user': '\\n\\n', 'comment': '\\nLate check-in 06/03/2021 * '}, {'user': '\\n\\n', 'comment': '\\nLci '}, {'user': '\\n\\n', 'comment': '\\nLCI 08/2021 '}, {'user': '\\n\\n', 'comment': '\\nSmaak explosie!!! Super lekker '}, {'user': '\\n\\n', 'comment': '\\nIncrível '}, {'user': '\\n\\n', 'comment': '\\nAhhh, há quanto tempo não tomava uma excelente cerveja; e que beleza que ela ficou no copo... Saúde!! 🍻 '}, {'user': '\\n\\n', 'comment': '\\nTomei com meu pai na casa dele. Avelã explodindo. '}, {'user': '\\n\\n', 'comment': '\\nDelícia de beber. '}, {'user': '\\n\\n', 'comment': '\\nSempre entregando muito. Ultima que tomei foi há 1 ano e meio atrás e continua no padrão .Drinkability excelente para uma double neipa. Turbidez padrão. '}, {'user': '\\n\\n', 'comment': '\\nDegustada em 17/11/2023 '}, {'user': '\\n\\n', 'comment': '\\n(4,0+) '}, {'user': '\\n\\n', 'comment': '\\nRevisitando, perfil de capuccino dividindo o protagonismo com a baunilha, amêndoas e chocolate, café mais apagado do que a safra 2017, corpo segue alto e abv invisível, saudades da velha 5 elementos. '}, {'user': '\\n\\n', 'comment': '\\nNa torneira tava melhor, com mais corpo e mais amarga, excelente '}, {'user': '\\n\\n', 'comment': '\\nApós 5 anos de adega, arrisco dizer que evoluiu. Negra, viscosa, quase sem espuma. Corpo alto com mouthfeel aveludado. Aroma solto, coco, chocolate ao leite, cacau, caramelo e biscoito, que aparecem todos no paladar. Retrogosto longo de cacau e biscoito. '}, {'user': '\\n\\n', 'comment': '\\nLCI '}, {'user': '\\n\\n', 'comment': '\\nQuase 10 anos de guarda revelaram um equilíbrio absurdo de dulçor, álcool e madeira. Um espetáculo de cerveja que valeu a espera. '}, {'user': '\\n\\n', 'comment': '\\nA little dryer and less sweet than anticipated. Enjoyed this, or did I? '}, {'user': '\\n\\n', 'comment': '\\nBarril presente, com amadeirado elegante e bourbon. Baunilha em camadas: fava, pasta e extrato. Todos de ótima qualidade. Soma-se tudo isso a chocolate ao leite, picancia e potência, num corpo alto. Um espetáculo beber com calma e fora de BS. '}, {'user': '\\n\\n', 'comment': '\\nUm verdadeiro suco de frutas! Muito aroma de laranja, maracujá, pera e frutas cítricas. Na boca muito sabor de maracujá, melão e pinho. Boa pedida! '}, {'user': '\\n\\n', 'comment': '\\nLate checkin '}, {'user': '\\n\\n', 'comment': '\\nТакі тріпли нам треба '}, {'user': '\\n\\n', 'comment': '\\nMelhor do Mondial até agora '}, {'user': '\\n\\n', 'comment': '\\nUma das melhores da vida! Nunca senti algo assim! Valeu demais Matheus G. !!! '}, {'user': '\\n\\n', 'comment': '\\nCheckin de quando ainda usava fraldas '}]\n"
     ]
    }
   ],
   "source": [
    "browser = webdriver.Chrome(options=options)\n",
    "\n",
    "browser.get(base_url + '/login')\n",
    "browser.find_element(By.NAME,\"username\").send_keys(EMAIL)\n",
    "browser.find_element(By.NAME,\"password\").send_keys(PASSWORD)\n",
    "time.sleep(30)\n",
    "\n",
    "interactions = []\n",
    "logger.info(\"Iniciando uma sessão...\")\n",
    "with requests.Session() as session:\n",
    "    logger.info(\"A iteração começará agora...\")\n",
    "    iteration_time = Clock(\"Coleta das infos das interações\")\n",
    "    with tqdm(total=number_of_brazilian_beer_links) as progress_bar:\n",
    "        progress_bar.set_description(\"Coletando os comentários das top 50 cervejas melhor avaliadas do Brasil\")\n",
    "        for beer_url in brazilian_beer_links:\n",
    "                try:\n",
    "                    page = requests.get(base_url + beer_url, headers=headers)\n",
    "                    soup = BeautifulSoup(page.text, 'html.parser')\n",
    "\n",
    "                    # coletando comentários\n",
    "\n",
    "                    # a_tag = SoupStrainer('a')\n",
    "                    # soup = BeautifulSoup(full_page, 'html.parser', parse_only=a_tag)\n",
    "                    # user = set('/user/' + link.get('href').split('/user/')[1].split('/')[0])\n",
    "\n",
    "                    user = soup.select('div.avatar-holder > a')[0].get_text()\n",
    "                    comment = soup.select('div.checkin-comment > p.comment-text')[0].get_text()\n",
    "\n",
    "                    interaction = {'user': user, 'comment': comment}\n",
    "                    interactions.append(interaction)\n",
    "\n",
    "                    progress_bar.update(1)\n",
    "                except IndexError:\n",
    "                    print(f\"Elemento não encontrado para a cerveja: {beer_url}\")\n",
    "                    progress_bar.update(1)\n",
    "                    continue\n",
    "        iteration_time.stop_watch()\n",
    "    logger.info(f\"Operação concluída! A lista filtrada possui {len(interactions)} cervejas.\")\n",
    "    \n",
    "    print(interactions)"
   ]
  }
 ],
 "metadata": {
  "kernelspec": {
   "display_name": "Python 3",
   "language": "python",
   "name": "python3"
  },
  "language_info": {
   "codemirror_mode": {
    "name": "ipython",
    "version": 3
   },
   "file_extension": ".py",
   "mimetype": "text/x-python",
   "name": "python",
   "nbconvert_exporter": "python",
   "pygments_lexer": "ipython3",
   "version": "3.10.12"
  }
 },
 "nbformat": 4,
 "nbformat_minor": 2
}
